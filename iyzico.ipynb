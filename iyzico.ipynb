{
 "cells": [
  {
   "cell_type": "code",
   "execution_count": 1,
   "metadata": {
    "_cell_guid": "b1076dfc-b9ad-4769-8c92-a6c4dae69d19",
    "_uuid": "8f2839f25d086af736a60e9eeb907d3b93b6e0e5"
   },
   "outputs": [
    {
     "name": "stdout",
     "output_type": "stream",
     "text": [
      "/kaggle/input/iyzico-projesi/samplesubmission.csv\n",
      "/kaggle/input/iyzico-projesi/train.csv\n",
      "/kaggle/input/iyzico-projesi/test.csv\n"
     ]
    }
   ],
   "source": [
    "# This Python 3 environment comes with many helpful analytics libraries installed\n",
    "# It is defined by the kaggle/python docker image: https://github.com/kaggle/docker-python\n",
    "# For example, here's several helpful packages to load in \n",
    "\n",
    "import numpy as np # linear algebra\n",
    "import pandas as pd # data processing, CSV file I/O (e.g. pd.read_csv)\n",
    "\n",
    "# Input data files are available in the \"../input/\" directory.\n",
    "# For example, running this (by clicking run or pressing Shift+Enter) will list all files under the input directory\n",
    "\n",
    "import os\n",
    "for dirname, _, filenames in os.walk('/kaggle/input'):\n",
    "    for filename in filenames:\n",
    "        print(os.path.join(dirname, filename))\n",
    "\n",
    "# Any results you write to the current directory are saved as output."
   ]
  },
  {
   "cell_type": "markdown",
   "metadata": {},
   "source": [
    "Firstly, we will create train and test data sets. "
   ]
  },
  {
   "cell_type": "code",
   "execution_count": 2,
   "metadata": {
    "_cell_guid": "79c7e3d0-c299-4dcb-8224-4455121ee9b0",
    "_uuid": "d629ff2d2480ee46fbb7e2d37f6b5fab8052498a"
   },
   "outputs": [],
   "source": [
    "import matplotlib.pyplot as plt\n",
    "\n",
    "train_data = pd.read_csv(\"/kaggle/input/iyzico-projesi/train.csv\")\n",
    "test_data = pd.read_csv(\"/kaggle/input/iyzico-projesi/test.csv\")"
   ]
  },
  {
   "cell_type": "markdown",
   "metadata": {},
   "source": [
    "Now, let us view features and targets of train and test data. "
   ]
  },
  {
   "cell_type": "code",
   "execution_count": 3,
   "metadata": {},
   "outputs": [
    {
     "data": {
      "text/html": [
       "<div>\n",
       "<style scoped>\n",
       "    .dataframe tbody tr th:only-of-type {\n",
       "        vertical-align: middle;\n",
       "    }\n",
       "\n",
       "    .dataframe tbody tr th {\n",
       "        vertical-align: top;\n",
       "    }\n",
       "\n",
       "    .dataframe thead th {\n",
       "        text-align: right;\n",
       "    }\n",
       "</style>\n",
       "<table border=\"1\" class=\"dataframe\">\n",
       "  <thead>\n",
       "    <tr style=\"text-align: right;\">\n",
       "      <th></th>\n",
       "      <th>BASKETPAIDPRICE</th>\n",
       "      <th>BASKETINSTALLMENT</th>\n",
       "      <th>BASKETPAYMENTCHANNEL</th>\n",
       "      <th>BASKETPAYMENTSOURCETYPE</th>\n",
       "      <th>BASKETISTHREEDS</th>\n",
       "      <th>BASKETREGISTERCARD</th>\n",
       "      <th>BASKETHASVIRTUALITEM</th>\n",
       "      <th>CARDTYPE</th>\n",
       "      <th>CARDASSOCIATION</th>\n",
       "      <th>EMAIL</th>\n",
       "      <th>CARDBANKID</th>\n",
       "      <th>MERCHANT_ID</th>\n",
       "      <th>ISFRAUD</th>\n",
       "    </tr>\n",
       "  </thead>\n",
       "  <tbody>\n",
       "    <tr>\n",
       "      <th>0</th>\n",
       "      <td>0.220099</td>\n",
       "      <td>1</td>\n",
       "      <td>9</td>\n",
       "      <td>1</td>\n",
       "      <td>1</td>\n",
       "      <td>0</td>\n",
       "      <td>0</td>\n",
       "      <td>1</td>\n",
       "      <td>1</td>\n",
       "      <td>1403000</td>\n",
       "      <td>7</td>\n",
       "      <td>6679</td>\n",
       "      <td>0</td>\n",
       "    </tr>\n",
       "    <tr>\n",
       "      <th>1</th>\n",
       "      <td>-0.173116</td>\n",
       "      <td>1</td>\n",
       "      <td>1</td>\n",
       "      <td>1</td>\n",
       "      <td>1</td>\n",
       "      <td>0</td>\n",
       "      <td>1</td>\n",
       "      <td>1</td>\n",
       "      <td>1</td>\n",
       "      <td>902058</td>\n",
       "      <td>7</td>\n",
       "      <td>8220</td>\n",
       "      <td>0</td>\n",
       "    </tr>\n",
       "    <tr>\n",
       "      <th>2</th>\n",
       "      <td>-0.228070</td>\n",
       "      <td>1</td>\n",
       "      <td>9</td>\n",
       "      <td>1</td>\n",
       "      <td>0</td>\n",
       "      <td>0</td>\n",
       "      <td>0</td>\n",
       "      <td>1</td>\n",
       "      <td>1</td>\n",
       "      <td>1454563</td>\n",
       "      <td>0</td>\n",
       "      <td>4698</td>\n",
       "      <td>0</td>\n",
       "    </tr>\n",
       "    <tr>\n",
       "      <th>3</th>\n",
       "      <td>-0.098923</td>\n",
       "      <td>1</td>\n",
       "      <td>2</td>\n",
       "      <td>1</td>\n",
       "      <td>0</td>\n",
       "      <td>0</td>\n",
       "      <td>0</td>\n",
       "      <td>1</td>\n",
       "      <td>2</td>\n",
       "      <td>1708531</td>\n",
       "      <td>7</td>\n",
       "      <td>28</td>\n",
       "      <td>0</td>\n",
       "    </tr>\n",
       "    <tr>\n",
       "      <th>4</th>\n",
       "      <td>-0.059801</td>\n",
       "      <td>3</td>\n",
       "      <td>1</td>\n",
       "      <td>3</td>\n",
       "      <td>1</td>\n",
       "      <td>0</td>\n",
       "      <td>0</td>\n",
       "      <td>1</td>\n",
       "      <td>1</td>\n",
       "      <td>1832048</td>\n",
       "      <td>4</td>\n",
       "      <td>694</td>\n",
       "      <td>0</td>\n",
       "    </tr>\n",
       "  </tbody>\n",
       "</table>\n",
       "</div>"
      ],
      "text/plain": [
       "   BASKETPAIDPRICE  BASKETINSTALLMENT  BASKETPAYMENTCHANNEL  \\\n",
       "0         0.220099                  1                     9   \n",
       "1        -0.173116                  1                     1   \n",
       "2        -0.228070                  1                     9   \n",
       "3        -0.098923                  1                     2   \n",
       "4        -0.059801                  3                     1   \n",
       "\n",
       "   BASKETPAYMENTSOURCETYPE  BASKETISTHREEDS  BASKETREGISTERCARD  \\\n",
       "0                        1                1                   0   \n",
       "1                        1                1                   0   \n",
       "2                        1                0                   0   \n",
       "3                        1                0                   0   \n",
       "4                        3                1                   0   \n",
       "\n",
       "   BASKETHASVIRTUALITEM  CARDTYPE  CARDASSOCIATION    EMAIL  CARDBANKID  \\\n",
       "0                     0         1                1  1403000           7   \n",
       "1                     1         1                1   902058           7   \n",
       "2                     0         1                1  1454563           0   \n",
       "3                     0         1                2  1708531           7   \n",
       "4                     0         1                1  1832048           4   \n",
       "\n",
       "   MERCHANT_ID  ISFRAUD  \n",
       "0         6679        0  \n",
       "1         8220        0  \n",
       "2         4698        0  \n",
       "3           28        0  \n",
       "4          694        0  "
      ]
     },
     "execution_count": 3,
     "metadata": {},
     "output_type": "execute_result"
    }
   ],
   "source": [
    "train_data.head()"
   ]
  },
  {
   "cell_type": "code",
   "execution_count": 4,
   "metadata": {},
   "outputs": [
    {
     "data": {
      "text/html": [
       "<div>\n",
       "<style scoped>\n",
       "    .dataframe tbody tr th:only-of-type {\n",
       "        vertical-align: middle;\n",
       "    }\n",
       "\n",
       "    .dataframe tbody tr th {\n",
       "        vertical-align: top;\n",
       "    }\n",
       "\n",
       "    .dataframe thead th {\n",
       "        text-align: right;\n",
       "    }\n",
       "</style>\n",
       "<table border=\"1\" class=\"dataframe\">\n",
       "  <thead>\n",
       "    <tr style=\"text-align: right;\">\n",
       "      <th></th>\n",
       "      <th>BASKETPAIDPRICE</th>\n",
       "      <th>BASKETINSTALLMENT</th>\n",
       "      <th>BASKETPAYMENTCHANNEL</th>\n",
       "      <th>BASKETPAYMENTSOURCETYPE</th>\n",
       "      <th>BASKETISTHREEDS</th>\n",
       "      <th>BASKETREGISTERCARD</th>\n",
       "      <th>BASKETHASVIRTUALITEM</th>\n",
       "      <th>CARDTYPE</th>\n",
       "      <th>CARDASSOCIATION</th>\n",
       "      <th>EMAIL</th>\n",
       "      <th>CARDBANKID</th>\n",
       "      <th>MERCHANT_ID</th>\n",
       "      <th>ISFRAUD</th>\n",
       "    </tr>\n",
       "  </thead>\n",
       "  <tbody>\n",
       "    <tr>\n",
       "      <th>159995</th>\n",
       "      <td>0.034138</td>\n",
       "      <td>1</td>\n",
       "      <td>9</td>\n",
       "      <td>1</td>\n",
       "      <td>0</td>\n",
       "      <td>0</td>\n",
       "      <td>1</td>\n",
       "      <td>1</td>\n",
       "      <td>2</td>\n",
       "      <td>1204736</td>\n",
       "      <td>9</td>\n",
       "      <td>1282</td>\n",
       "      <td>0</td>\n",
       "    </tr>\n",
       "    <tr>\n",
       "      <th>159996</th>\n",
       "      <td>1.444032</td>\n",
       "      <td>2</td>\n",
       "      <td>1</td>\n",
       "      <td>3</td>\n",
       "      <td>1</td>\n",
       "      <td>0</td>\n",
       "      <td>0</td>\n",
       "      <td>1</td>\n",
       "      <td>2</td>\n",
       "      <td>1024242</td>\n",
       "      <td>9</td>\n",
       "      <td>1868</td>\n",
       "      <td>0</td>\n",
       "    </tr>\n",
       "    <tr>\n",
       "      <th>159997</th>\n",
       "      <td>-0.071446</td>\n",
       "      <td>1</td>\n",
       "      <td>5</td>\n",
       "      <td>3</td>\n",
       "      <td>1</td>\n",
       "      <td>0</td>\n",
       "      <td>0</td>\n",
       "      <td>1</td>\n",
       "      <td>1</td>\n",
       "      <td>671844</td>\n",
       "      <td>8</td>\n",
       "      <td>2498</td>\n",
       "      <td>0</td>\n",
       "    </tr>\n",
       "    <tr>\n",
       "      <th>159998</th>\n",
       "      <td>-0.018938</td>\n",
       "      <td>1</td>\n",
       "      <td>1</td>\n",
       "      <td>1</td>\n",
       "      <td>0</td>\n",
       "      <td>0</td>\n",
       "      <td>1</td>\n",
       "      <td>1</td>\n",
       "      <td>2</td>\n",
       "      <td>425769</td>\n",
       "      <td>7</td>\n",
       "      <td>958</td>\n",
       "      <td>0</td>\n",
       "    </tr>\n",
       "    <tr>\n",
       "      <th>159999</th>\n",
       "      <td>-0.023576</td>\n",
       "      <td>2</td>\n",
       "      <td>5</td>\n",
       "      <td>3</td>\n",
       "      <td>0</td>\n",
       "      <td>0</td>\n",
       "      <td>0</td>\n",
       "      <td>1</td>\n",
       "      <td>1</td>\n",
       "      <td>127601</td>\n",
       "      <td>15</td>\n",
       "      <td>4917</td>\n",
       "      <td>0</td>\n",
       "    </tr>\n",
       "  </tbody>\n",
       "</table>\n",
       "</div>"
      ],
      "text/plain": [
       "        BASKETPAIDPRICE  BASKETINSTALLMENT  BASKETPAYMENTCHANNEL  \\\n",
       "159995         0.034138                  1                     9   \n",
       "159996         1.444032                  2                     1   \n",
       "159997        -0.071446                  1                     5   \n",
       "159998        -0.018938                  1                     1   \n",
       "159999        -0.023576                  2                     5   \n",
       "\n",
       "        BASKETPAYMENTSOURCETYPE  BASKETISTHREEDS  BASKETREGISTERCARD  \\\n",
       "159995                        1                0                   0   \n",
       "159996                        3                1                   0   \n",
       "159997                        3                1                   0   \n",
       "159998                        1                0                   0   \n",
       "159999                        3                0                   0   \n",
       "\n",
       "        BASKETHASVIRTUALITEM  CARDTYPE  CARDASSOCIATION    EMAIL  CARDBANKID  \\\n",
       "159995                     1         1                2  1204736           9   \n",
       "159996                     0         1                2  1024242           9   \n",
       "159997                     0         1                1   671844           8   \n",
       "159998                     1         1                2   425769           7   \n",
       "159999                     0         1                1   127601          15   \n",
       "\n",
       "        MERCHANT_ID  ISFRAUD  \n",
       "159995         1282        0  \n",
       "159996         1868        0  \n",
       "159997         2498        0  \n",
       "159998          958        0  \n",
       "159999         4917        0  "
      ]
     },
     "execution_count": 4,
     "metadata": {},
     "output_type": "execute_result"
    }
   ],
   "source": [
    "train_data.tail()"
   ]
  },
  {
   "cell_type": "code",
   "execution_count": 5,
   "metadata": {},
   "outputs": [
    {
     "data": {
      "text/plain": [
       "(160000, 13)"
      ]
     },
     "execution_count": 5,
     "metadata": {},
     "output_type": "execute_result"
    }
   ],
   "source": [
    "train_data.shape"
   ]
  },
  {
   "cell_type": "markdown",
   "metadata": {},
   "source": [
    "So, train data has 160000 has data value and 12 features. The last column indicates the target values. The column of `ISFLAUD` is target column."
   ]
  },
  {
   "cell_type": "code",
   "execution_count": 6,
   "metadata": {},
   "outputs": [
    {
     "data": {
      "text/html": [
       "<div>\n",
       "<style scoped>\n",
       "    .dataframe tbody tr th:only-of-type {\n",
       "        vertical-align: middle;\n",
       "    }\n",
       "\n",
       "    .dataframe tbody tr th {\n",
       "        vertical-align: top;\n",
       "    }\n",
       "\n",
       "    .dataframe thead th {\n",
       "        text-align: right;\n",
       "    }\n",
       "</style>\n",
       "<table border=\"1\" class=\"dataframe\">\n",
       "  <thead>\n",
       "    <tr style=\"text-align: right;\">\n",
       "      <th></th>\n",
       "      <th>ID</th>\n",
       "      <th>BASKETPAIDPRICE</th>\n",
       "      <th>BASKETINSTALLMENT</th>\n",
       "      <th>BASKETPAYMENTCHANNEL</th>\n",
       "      <th>BASKETPAYMENTSOURCETYPE</th>\n",
       "      <th>BASKETISTHREEDS</th>\n",
       "      <th>BASKETREGISTERCARD</th>\n",
       "      <th>BASKETHASVIRTUALITEM</th>\n",
       "      <th>CARDTYPE</th>\n",
       "      <th>CARDASSOCIATION</th>\n",
       "      <th>EMAIL</th>\n",
       "      <th>CARDBANKID</th>\n",
       "      <th>MERCHANT_ID</th>\n",
       "    </tr>\n",
       "  </thead>\n",
       "  <tbody>\n",
       "    <tr>\n",
       "      <th>39995</th>\n",
       "      <td>39995</td>\n",
       "      <td>0.028286</td>\n",
       "      <td>3</td>\n",
       "      <td>1</td>\n",
       "      <td>3</td>\n",
       "      <td>1</td>\n",
       "      <td>0</td>\n",
       "      <td>0</td>\n",
       "      <td>1</td>\n",
       "      <td>2</td>\n",
       "      <td>452624</td>\n",
       "      <td>12</td>\n",
       "      <td>694</td>\n",
       "    </tr>\n",
       "    <tr>\n",
       "      <th>39996</th>\n",
       "      <td>39996</td>\n",
       "      <td>0.107783</td>\n",
       "      <td>1</td>\n",
       "      <td>1</td>\n",
       "      <td>1</td>\n",
       "      <td>1</td>\n",
       "      <td>0</td>\n",
       "      <td>1</td>\n",
       "      <td>1</td>\n",
       "      <td>1</td>\n",
       "      <td>822951</td>\n",
       "      <td>7</td>\n",
       "      <td>1733</td>\n",
       "    </tr>\n",
       "    <tr>\n",
       "      <th>39997</th>\n",
       "      <td>39997</td>\n",
       "      <td>-0.017294</td>\n",
       "      <td>1</td>\n",
       "      <td>1</td>\n",
       "      <td>1</td>\n",
       "      <td>0</td>\n",
       "      <td>0</td>\n",
       "      <td>0</td>\n",
       "      <td>1</td>\n",
       "      <td>1</td>\n",
       "      <td>1103635</td>\n",
       "      <td>7</td>\n",
       "      <td>31</td>\n",
       "    </tr>\n",
       "    <tr>\n",
       "      <th>39998</th>\n",
       "      <td>39998</td>\n",
       "      <td>-0.226133</td>\n",
       "      <td>1</td>\n",
       "      <td>5</td>\n",
       "      <td>1</td>\n",
       "      <td>0</td>\n",
       "      <td>0</td>\n",
       "      <td>1</td>\n",
       "      <td>1</td>\n",
       "      <td>2</td>\n",
       "      <td>1429491</td>\n",
       "      <td>9</td>\n",
       "      <td>774</td>\n",
       "    </tr>\n",
       "    <tr>\n",
       "      <th>39999</th>\n",
       "      <td>39999</td>\n",
       "      <td>-0.263298</td>\n",
       "      <td>1</td>\n",
       "      <td>9</td>\n",
       "      <td>1</td>\n",
       "      <td>0</td>\n",
       "      <td>0</td>\n",
       "      <td>0</td>\n",
       "      <td>2</td>\n",
       "      <td>1</td>\n",
       "      <td>671845</td>\n",
       "      <td>1</td>\n",
       "      <td>7622</td>\n",
       "    </tr>\n",
       "  </tbody>\n",
       "</table>\n",
       "</div>"
      ],
      "text/plain": [
       "          ID  BASKETPAIDPRICE  BASKETINSTALLMENT  BASKETPAYMENTCHANNEL  \\\n",
       "39995  39995         0.028286                  3                     1   \n",
       "39996  39996         0.107783                  1                     1   \n",
       "39997  39997        -0.017294                  1                     1   \n",
       "39998  39998        -0.226133                  1                     5   \n",
       "39999  39999        -0.263298                  1                     9   \n",
       "\n",
       "       BASKETPAYMENTSOURCETYPE  BASKETISTHREEDS  BASKETREGISTERCARD  \\\n",
       "39995                        3                1                   0   \n",
       "39996                        1                1                   0   \n",
       "39997                        1                0                   0   \n",
       "39998                        1                0                   0   \n",
       "39999                        1                0                   0   \n",
       "\n",
       "       BASKETHASVIRTUALITEM  CARDTYPE  CARDASSOCIATION    EMAIL  CARDBANKID  \\\n",
       "39995                     0         1                2   452624          12   \n",
       "39996                     1         1                1   822951           7   \n",
       "39997                     0         1                1  1103635           7   \n",
       "39998                     1         1                2  1429491           9   \n",
       "39999                     0         2                1   671845           1   \n",
       "\n",
       "       MERCHANT_ID  \n",
       "39995          694  \n",
       "39996         1733  \n",
       "39997           31  \n",
       "39998          774  \n",
       "39999         7622  "
      ]
     },
     "execution_count": 6,
     "metadata": {},
     "output_type": "execute_result"
    }
   ],
   "source": [
    "test_data.tail()"
   ]
  },
  {
   "cell_type": "code",
   "execution_count": 7,
   "metadata": {},
   "outputs": [
    {
     "data": {
      "text/plain": [
       "(40000, 13)"
      ]
     },
     "execution_count": 7,
     "metadata": {},
     "output_type": "execute_result"
    }
   ],
   "source": [
    "test_data.shape"
   ]
  },
  {
   "cell_type": "markdown",
   "metadata": {},
   "source": [
    "In the data set, the features of `EMAIL`, `CARDBANKID`, `MERCHANT_ID` have not huge effects on prediction of transactions. Because, we don't interest persons who perform transactions, interest only process of transaction. Therefore, we can drop these columns from the train data set. "
   ]
  },
  {
   "cell_type": "code",
   "execution_count": 8,
   "metadata": {},
   "outputs": [],
   "source": [
    "train_data = train_data.drop([\"EMAIL\", \"CARDBANKID\", \"MERCHANT_ID\"], axis= 1)"
   ]
  },
  {
   "cell_type": "markdown",
   "metadata": {},
   "source": [
    "Now, we check `NaN` values whether exist or not in the data set. "
   ]
  },
  {
   "cell_type": "code",
   "execution_count": 9,
   "metadata": {},
   "outputs": [
    {
     "name": "stdout",
     "output_type": "stream",
     "text": [
      "There is no NaN value in the data set\n"
     ]
    }
   ],
   "source": [
    "count = 0\n",
    "for row in range(train_data.shape[0]):\n",
    "    for column in range(train_data.shape[1]):\n",
    "        if pd.isnull(train_data.iloc[row, column]) == True:\n",
    "            count += 1\n",
    "        else:\n",
    "            continue\n",
    "\n",
    "if count == 0:\n",
    "    print('There is no NaN value in the data set')"
   ]
  },
  {
   "cell_type": "markdown",
   "metadata": {},
   "source": [
    "Now, we can process the clean data. We will Recurrent Neural Network for predicstion. In the Recurrent Neural Network, the method which we use for prediction is LSTM. "
   ]
  },
  {
   "cell_type": "markdown",
   "metadata": {},
   "source": [
    "Before struct the network, let us split data(train.csv) for train and test. We will control the strength of the model based on accuracy and loss. Then, we will use updated weigths with the neural network for prediction of data values in the test(test.csv) data. "
   ]
  },
  {
   "cell_type": "markdown",
   "metadata": {},
   "source": [
    "In the data set, some features have '0' categorical values. This situation may bring about some problems for compiling the model. So, we will add 1 to all values of some features. "
   ]
  },
  {
   "cell_type": "code",
   "execution_count": 10,
   "metadata": {},
   "outputs": [],
   "source": [
    "features = train_data.iloc[:, :-1]\n",
    "target = train_data.iloc[:, -1]"
   ]
  },
  {
   "cell_type": "code",
   "execution_count": 11,
   "metadata": {},
   "outputs": [
    {
     "data": {
      "text/plain": [
       "(160000, 9)"
      ]
     },
     "execution_count": 11,
     "metadata": {},
     "output_type": "execute_result"
    }
   ],
   "source": [
    "features.shape"
   ]
  },
  {
   "cell_type": "code",
   "execution_count": 12,
   "metadata": {},
   "outputs": [
    {
     "data": {
      "text/plain": [
       "(160000,)"
      ]
     },
     "execution_count": 12,
     "metadata": {},
     "output_type": "execute_result"
    }
   ],
   "source": [
    "target.shape"
   ]
  },
  {
   "cell_type": "code",
   "execution_count": 13,
   "metadata": {},
   "outputs": [],
   "source": [
    "import random\n",
    "\n",
    "from sklearn.model_selection import train_test_split\n",
    "train_features, test_features, train_target, test_target = train_test_split(features, target, test_size = 0.33, random_state = random.randrange(0,100))"
   ]
  },
  {
   "cell_type": "code",
   "execution_count": 14,
   "metadata": {},
   "outputs": [
    {
     "name": "stdout",
     "output_type": "stream",
     "text": [
      "838\n"
     ]
    }
   ],
   "source": [
    "count = 0\n",
    "\n",
    "for index in range(len(test_target)):\n",
    "    if target[index] == 1:\n",
    "        count += 1\n",
    "        \n",
    "print(count)"
   ]
  },
  {
   "cell_type": "code",
   "execution_count": 15,
   "metadata": {},
   "outputs": [
    {
     "data": {
      "text/plain": [
       "(107200, 9)"
      ]
     },
     "execution_count": 15,
     "metadata": {},
     "output_type": "execute_result"
    }
   ],
   "source": [
    "train_features.shape"
   ]
  },
  {
   "cell_type": "markdown",
   "metadata": {},
   "source": [
    "We need to expand dimension of the train and test features in order to construct suitable network for the data. "
   ]
  },
  {
   "cell_type": "code",
   "execution_count": 16,
   "metadata": {},
   "outputs": [],
   "source": [
    "train_features = np.expand_dims(train_features, axis = 2)\n",
    "test_features = np.expand_dims(test_features, axis = 2)"
   ]
  },
  {
   "cell_type": "code",
   "execution_count": 17,
   "metadata": {},
   "outputs": [
    {
     "data": {
      "text/plain": [
       "(107200, 9, 1)"
      ]
     },
     "execution_count": 17,
     "metadata": {},
     "output_type": "execute_result"
    }
   ],
   "source": [
    "train_features.shape"
   ]
  },
  {
   "cell_type": "code",
   "execution_count": 18,
   "metadata": {},
   "outputs": [
    {
     "name": "stderr",
     "output_type": "stream",
     "text": [
      "Using TensorFlow backend.\n"
     ]
    }
   ],
   "source": [
    "import keras \n",
    "\n",
    "train_target = keras.utils.to_categorical(train_target)\n",
    "test_target = keras.utils.to_categorical(test_target)"
   ]
  },
  {
   "cell_type": "code",
   "execution_count": 19,
   "metadata": {},
   "outputs": [
    {
     "data": {
      "text/plain": [
       "(107200, 2)"
      ]
     },
     "execution_count": 19,
     "metadata": {},
     "output_type": "execute_result"
    }
   ],
   "source": [
    "train_target.shape"
   ]
  },
  {
   "cell_type": "markdown",
   "metadata": {},
   "source": [
    "Now, let us create the network. "
   ]
  },
  {
   "cell_type": "code",
   "execution_count": 20,
   "metadata": {},
   "outputs": [],
   "source": [
    "from keras.layers import Dense, Flatten, Dropout, BatchNormalization\n",
    "from keras.models import Sequential \n",
    "from keras.regularizers import l1, l2, l1_l2"
   ]
  },
  {
   "cell_type": "markdown",
   "metadata": {},
   "source": [
    "It is input layer of the network."
   ]
  },
  {
   "cell_type": "code",
   "execution_count": 21,
   "metadata": {},
   "outputs": [],
   "source": [
    "model = Sequential()"
   ]
  },
  {
   "cell_type": "markdown",
   "metadata": {},
   "source": [
    "There are four hidden layers in the network. `input_shape` indicates the shape of previous layer. In the first hidden layer, `input_shape` must be assigned as dimension of input layer. The `ReLu` function is used as non-linear activation function in all hidden layers. "
   ]
  },
  {
   "cell_type": "code",
   "execution_count": 22,
   "metadata": {},
   "outputs": [],
   "source": [
    "#model.add(LSTM(50, return_sequences=True, input_shape=(train_features.shape[1], 1), activation='tanh'))\n",
    "model.add(Dense(64, input_shape=(train_features.shape[1], 1), activation = 'relu', kernel_regularizer='l2'))\n",
    "model.add(Dense(16, activation = 'tanh'))\n",
    "model.add(Dense(4, activation = 'relu'))\n",
    "\n",
    "\n",
    "model.add(Flatten())\n",
    "#model.add(LSTM(50, return_sequences=True, activation='relu'))\n",
    "#model.add(LSTM(50, return_sequences=True, activation='tanh'))\n",
    "#model.add(LSTM(50, return_sequences=False, activation='tanh'))"
   ]
  },
  {
   "cell_type": "markdown",
   "metadata": {},
   "source": [
    "The final stage of constructing the architecture of the network is setting output layer. "
   ]
  },
  {
   "cell_type": "code",
   "execution_count": 23,
   "metadata": {},
   "outputs": [],
   "source": [
    "#model.add(Dropout(0.5))\n",
    "#model.add(BatchNormalization())\n",
    "model.add(Dense(2, activation = 'sigmoid', kernel_regularizer='l2'))"
   ]
  },
  {
   "cell_type": "markdown",
   "metadata": {},
   "source": [
    "We used `l2 regularization` at output layer and one hidden layer to reduce effect of overfitting. Because, a gap between train and test curves has occured without `l2 regularization`. The gap was reduced with `l2 regularization`. "
   ]
  },
  {
   "cell_type": "markdown",
   "metadata": {},
   "source": [
    "We constructed the network. Now, we must compile with optimizer and loss functions "
   ]
  },
  {
   "cell_type": "code",
   "execution_count": 24,
   "metadata": {},
   "outputs": [],
   "source": [
    "opt_param = keras.optimizers.Adam(learning_rate=0.000001)\n",
    "model.compile(loss='binary_crossentropy', optimizer = opt_param, metrics=['accuracy'])"
   ]
  },
  {
   "cell_type": "markdown",
   "metadata": {},
   "source": [
    "Default value of the learning rate is reduced to 0.000001 because the loss and the accuracy values did not change during epochs. This means that the model could not learn anything from data. "
   ]
  },
  {
   "cell_type": "markdown",
   "metadata": {},
   "source": [
    "At the final stage, we are fitting with paramaters of `batch_size` and `epoch`. "
   ]
  },
  {
   "cell_type": "code",
   "execution_count": 25,
   "metadata": {},
   "outputs": [
    {
     "name": "stdout",
     "output_type": "stream",
     "text": [
      "Train on 107200 samples, validate on 52800 samples\n",
      "Epoch 1/20\n",
      "107200/107200 [==============================] - 1s 14us/step - loss: 0.7257 - accuracy: 0.7100 - val_loss: 0.7250 - val_accuracy: 0.7114\n",
      "Epoch 2/20\n",
      "107200/107200 [==============================] - 1s 9us/step - loss: 0.7249 - accuracy: 0.7105 - val_loss: 0.7243 - val_accuracy: 0.7119\n",
      "Epoch 3/20\n",
      "107200/107200 [==============================] - 1s 9us/step - loss: 0.7242 - accuracy: 0.7111 - val_loss: 0.7236 - val_accuracy: 0.7125\n",
      "Epoch 4/20\n",
      "107200/107200 [==============================] - 1s 9us/step - loss: 0.7235 - accuracy: 0.7115 - val_loss: 0.7228 - val_accuracy: 0.7128\n",
      "Epoch 5/20\n",
      "107200/107200 [==============================] - 1s 9us/step - loss: 0.7227 - accuracy: 0.7120 - val_loss: 0.7221 - val_accuracy: 0.7132\n",
      "Epoch 6/20\n",
      "107200/107200 [==============================] - 1s 9us/step - loss: 0.7220 - accuracy: 0.7125 - val_loss: 0.7213 - val_accuracy: 0.7136\n",
      "Epoch 7/20\n",
      "107200/107200 [==============================] - 1s 9us/step - loss: 0.7212 - accuracy: 0.7130 - val_loss: 0.7206 - val_accuracy: 0.7141\n",
      "Epoch 8/20\n",
      "107200/107200 [==============================] - 1s 9us/step - loss: 0.7205 - accuracy: 0.7135 - val_loss: 0.7199 - val_accuracy: 0.7146\n",
      "Epoch 9/20\n",
      "107200/107200 [==============================] - 1s 9us/step - loss: 0.7198 - accuracy: 0.7141 - val_loss: 0.7191 - val_accuracy: 0.7152\n",
      "Epoch 10/20\n",
      "107200/107200 [==============================] - 1s 9us/step - loss: 0.7190 - accuracy: 0.7149 - val_loss: 0.7184 - val_accuracy: 0.7158\n",
      "Epoch 11/20\n",
      "107200/107200 [==============================] - 1s 9us/step - loss: 0.7183 - accuracy: 0.7157 - val_loss: 0.7176 - val_accuracy: 0.7166\n",
      "Epoch 12/20\n",
      "107200/107200 [==============================] - 1s 10us/step - loss: 0.7175 - accuracy: 0.7164 - val_loss: 0.7168 - val_accuracy: 0.7173\n",
      "Epoch 13/20\n",
      "107200/107200 [==============================] - 1s 9us/step - loss: 0.7168 - accuracy: 0.7170 - val_loss: 0.7161 - val_accuracy: 0.7177\n",
      "Epoch 14/20\n",
      "107200/107200 [==============================] - 1s 9us/step - loss: 0.7160 - accuracy: 0.7176 - val_loss: 0.7153 - val_accuracy: 0.7181\n",
      "Epoch 15/20\n",
      "107200/107200 [==============================] - 1s 9us/step - loss: 0.7152 - accuracy: 0.7179 - val_loss: 0.7146 - val_accuracy: 0.7184\n",
      "Epoch 16/20\n",
      "107200/107200 [==============================] - 1s 9us/step - loss: 0.7145 - accuracy: 0.7181 - val_loss: 0.7138 - val_accuracy: 0.7185\n",
      "Epoch 17/20\n",
      "107200/107200 [==============================] - 1s 9us/step - loss: 0.7137 - accuracy: 0.7183 - val_loss: 0.7130 - val_accuracy: 0.7187\n",
      "Epoch 18/20\n",
      "107200/107200 [==============================] - 1s 9us/step - loss: 0.7129 - accuracy: 0.7190 - val_loss: 0.7123 - val_accuracy: 0.7200\n",
      "Epoch 19/20\n",
      "107200/107200 [==============================] - 1s 9us/step - loss: 0.7122 - accuracy: 0.7201 - val_loss: 0.7115 - val_accuracy: 0.7209\n",
      "Epoch 20/20\n",
      "107200/107200 [==============================] - 1s 9us/step - loss: 0.7114 - accuracy: 0.7210 - val_loss: 0.7107 - val_accuracy: 0.7217\n"
     ]
    }
   ],
   "source": [
    "ann = model.fit(train_features, train_target, batch_size=1024, epochs=20, validation_data=(test_features, test_target))"
   ]
  },
  {
   "cell_type": "code",
   "execution_count": 26,
   "metadata": {},
   "outputs": [
    {
     "data": {
      "text/plain": [
       "Text(0.5, 1.0, 'Accuracy Curves')"
      ]
     },
     "execution_count": 26,
     "metadata": {},
     "output_type": "execute_result"
    },
    {
     "data": {
      "image/png": "[encoded data removed]",
      "text/plain": [
       "<Figure size 576x432 with 1 Axes>"
      ]
     },
     "metadata": {
      "needs_background": "light"
     },
     "output_type": "display_data"
    },
    {
     "data": {
      "image/png": "[encoded data removed]",
      "text/plain": [
       "<Figure size 576x432 with 1 Axes>"
      ]
     },
     "metadata": {
      "needs_background": "light"
     },
     "output_type": "display_data"
    }
   ],
   "source": [
    "#Plot the Loss Curves\n",
    "plt.figure(figsize=[8,6])\n",
    "train_loss, = plt.plot(ann.history['loss'],'r',linewidth=3.0)\n",
    "test_loss, = plt.plot(ann.history['val_loss'],'b',linewidth=3.0)\n",
    "plt.legend([train_loss, test_loss], ['Training Loss', 'Test Loss'],fontsize=12)\n",
    "plt.xlabel('Epochs ',fontsize=16)\n",
    "plt.ylabel('Loss',fontsize=16)\n",
    "plt.title('Loss Curves',fontsize=16)\n",
    " \n",
    "#Plot the Accuracy Curves\n",
    "plt.figure(figsize=[8,6])\n",
    "train_accuracy, = plt.plot(ann.history['accuracy'],'r',linewidth=3.0)\n",
    "test_accuracy, = plt.plot(ann.history['val_accuracy'],'b',linewidth=3.0)\n",
    "plt.legend([train_accuracy, test_accuracy], ['Training Accuracy', 'Test Accuracy'],fontsize=12)\n",
    "\n",
    "plt.xlabel('Epochs ',fontsize=16)\n",
    "plt.ylabel('Accuracy',fontsize=16)\n",
    "plt.title('Accuracy Curves',fontsize=16)"
   ]
  },
  {
   "cell_type": "markdown",
   "metadata": {},
   "source": [
    "At the end of 40 epochs, the validation accuracy is around 0.95 and the validation loss is 0.66. The curves of train and test are close to each other and there is no considerable gap between two curves in both accuracy and loss values. Therefore, we can say that there is no overfitting or underfitting. This model can be used for predicting. "
   ]
  },
  {
   "cell_type": "code",
   "execution_count": 27,
   "metadata": {},
   "outputs": [
    {
     "data": {
      "text/html": [
       "<div>\n",
       "<style scoped>\n",
       "    .dataframe tbody tr th:only-of-type {\n",
       "        vertical-align: middle;\n",
       "    }\n",
       "\n",
       "    .dataframe tbody tr th {\n",
       "        vertical-align: top;\n",
       "    }\n",
       "\n",
       "    .dataframe thead th {\n",
       "        text-align: right;\n",
       "    }\n",
       "</style>\n",
       "<table border=\"1\" class=\"dataframe\">\n",
       "  <thead>\n",
       "    <tr style=\"text-align: right;\">\n",
       "      <th></th>\n",
       "      <th>ID</th>\n",
       "      <th>BASKETPAIDPRICE</th>\n",
       "      <th>BASKETINSTALLMENT</th>\n",
       "      <th>BASKETPAYMENTCHANNEL</th>\n",
       "      <th>BASKETPAYMENTSOURCETYPE</th>\n",
       "      <th>BASKETISTHREEDS</th>\n",
       "      <th>BASKETREGISTERCARD</th>\n",
       "      <th>BASKETHASVIRTUALITEM</th>\n",
       "      <th>CARDTYPE</th>\n",
       "      <th>CARDASSOCIATION</th>\n",
       "      <th>EMAIL</th>\n",
       "      <th>CARDBANKID</th>\n",
       "      <th>MERCHANT_ID</th>\n",
       "    </tr>\n",
       "  </thead>\n",
       "  <tbody>\n",
       "    <tr>\n",
       "      <th>0</th>\n",
       "      <td>0</td>\n",
       "      <td>-0.030406</td>\n",
       "      <td>1</td>\n",
       "      <td>9</td>\n",
       "      <td>1</td>\n",
       "      <td>0</td>\n",
       "      <td>0</td>\n",
       "      <td>1</td>\n",
       "      <td>1</td>\n",
       "      <td>2</td>\n",
       "      <td>95248</td>\n",
       "      <td>8</td>\n",
       "      <td>163</td>\n",
       "    </tr>\n",
       "    <tr>\n",
       "      <th>1</th>\n",
       "      <td>1</td>\n",
       "      <td>-0.261830</td>\n",
       "      <td>1</td>\n",
       "      <td>9</td>\n",
       "      <td>1</td>\n",
       "      <td>0</td>\n",
       "      <td>0</td>\n",
       "      <td>1</td>\n",
       "      <td>2</td>\n",
       "      <td>1</td>\n",
       "      <td>1123807</td>\n",
       "      <td>15</td>\n",
       "      <td>6945</td>\n",
       "    </tr>\n",
       "    <tr>\n",
       "      <th>2</th>\n",
       "      <td>2</td>\n",
       "      <td>0.135299</td>\n",
       "      <td>1</td>\n",
       "      <td>4</td>\n",
       "      <td>3</td>\n",
       "      <td>0</td>\n",
       "      <td>0</td>\n",
       "      <td>0</td>\n",
       "      <td>1</td>\n",
       "      <td>1</td>\n",
       "      <td>878540</td>\n",
       "      <td>7</td>\n",
       "      <td>1232</td>\n",
       "    </tr>\n",
       "    <tr>\n",
       "      <th>3</th>\n",
       "      <td>3</td>\n",
       "      <td>-0.002224</td>\n",
       "      <td>1</td>\n",
       "      <td>1</td>\n",
       "      <td>1</td>\n",
       "      <td>0</td>\n",
       "      <td>0</td>\n",
       "      <td>1</td>\n",
       "      <td>1</td>\n",
       "      <td>1</td>\n",
       "      <td>755894</td>\n",
       "      <td>8</td>\n",
       "      <td>1733</td>\n",
       "    </tr>\n",
       "    <tr>\n",
       "      <th>4</th>\n",
       "      <td>4</td>\n",
       "      <td>-0.197247</td>\n",
       "      <td>1</td>\n",
       "      <td>9</td>\n",
       "      <td>1</td>\n",
       "      <td>0</td>\n",
       "      <td>0</td>\n",
       "      <td>1</td>\n",
       "      <td>1</td>\n",
       "      <td>2</td>\n",
       "      <td>1123807</td>\n",
       "      <td>9</td>\n",
       "      <td>6945</td>\n",
       "    </tr>\n",
       "  </tbody>\n",
       "</table>\n",
       "</div>"
      ],
      "text/plain": [
       "   ID  BASKETPAIDPRICE  BASKETINSTALLMENT  BASKETPAYMENTCHANNEL  \\\n",
       "0   0        -0.030406                  1                     9   \n",
       "1   1        -0.261830                  1                     9   \n",
       "2   2         0.135299                  1                     4   \n",
       "3   3        -0.002224                  1                     1   \n",
       "4   4        -0.197247                  1                     9   \n",
       "\n",
       "   BASKETPAYMENTSOURCETYPE  BASKETISTHREEDS  BASKETREGISTERCARD  \\\n",
       "0                        1                0                   0   \n",
       "1                        1                0                   0   \n",
       "2                        3                0                   0   \n",
       "3                        1                0                   0   \n",
       "4                        1                0                   0   \n",
       "\n",
       "   BASKETHASVIRTUALITEM  CARDTYPE  CARDASSOCIATION    EMAIL  CARDBANKID  \\\n",
       "0                     1         1                2    95248           8   \n",
       "1                     1         2                1  1123807          15   \n",
       "2                     0         1                1   878540           7   \n",
       "3                     1         1                1   755894           8   \n",
       "4                     1         1                2  1123807           9   \n",
       "\n",
       "   MERCHANT_ID  \n",
       "0          163  \n",
       "1         6945  \n",
       "2         1232  \n",
       "3         1733  \n",
       "4         6945  "
      ]
     },
     "execution_count": 27,
     "metadata": {},
     "output_type": "execute_result"
    }
   ],
   "source": [
    "test_data.head()"
   ]
  },
  {
   "cell_type": "code",
   "execution_count": 28,
   "metadata": {},
   "outputs": [],
   "source": [
    "test_data = test_data.drop([\"EMAIL\", \"CARDBANKID\", \"MERCHANT_ID\", \"ID\"], axis=1)"
   ]
  },
  {
   "cell_type": "code",
   "execution_count": 29,
   "metadata": {},
   "outputs": [],
   "source": [
    "test_data = np.expand_dims(test_data, axis = 2)"
   ]
  },
  {
   "cell_type": "code",
   "execution_count": 30,
   "metadata": {},
   "outputs": [
    {
     "data": {
      "text/plain": [
       "(40000, 9, 1)"
      ]
     },
     "execution_count": 30,
     "metadata": {},
     "output_type": "execute_result"
    }
   ],
   "source": [
    "test_data.shape"
   ]
  },
  {
   "cell_type": "markdown",
   "metadata": {},
   "source": [
    "Test data is ready for predicting. Let us predict target values with the network model which we created. "
   ]
  },
  {
   "cell_type": "code",
   "execution_count": 31,
   "metadata": {},
   "outputs": [],
   "source": [
    "prediction = model.predict(test_data)"
   ]
  },
  {
   "cell_type": "code",
   "execution_count": 32,
   "metadata": {},
   "outputs": [
    {
     "data": {
      "text/plain": [
       "array([[0.42550525, 0.42994493],\n",
       "       [0.43384594, 0.42101467],\n",
       "       [0.48500255, 0.46847787],\n",
       "       ...,\n",
       "       [0.5336221 , 0.47377977],\n",
       "       [0.44935742, 0.44634414],\n",
       "       [0.45501435, 0.4233385 ]], dtype=float32)"
      ]
     },
     "execution_count": 32,
     "metadata": {},
     "output_type": "execute_result"
    }
   ],
   "source": [
    "prediction"
   ]
  },
  {
   "cell_type": "markdown",
   "metadata": {},
   "source": [
    "We need to classes for `ISFRAUD`. So, we use `predict_classes` function belongs to the model. "
   ]
  },
  {
   "cell_type": "code",
   "execution_count": 33,
   "metadata": {},
   "outputs": [],
   "source": [
    "prediction_classes = model.predict_classes(test_data)"
   ]
  },
  {
   "cell_type": "code",
   "execution_count": 34,
   "metadata": {},
   "outputs": [],
   "source": [
    "predictions = list(prediction_classes)"
   ]
  },
  {
   "cell_type": "markdown",
   "metadata": {},
   "source": [
    "We will create a data frame, then write this data frame to csv file. "
   ]
  },
  {
   "cell_type": "code",
   "execution_count": 35,
   "metadata": {},
   "outputs": [],
   "source": [
    "result_df = pd.DataFrame(columns = ['ID', 'ISFRAUD'])"
   ]
  },
  {
   "cell_type": "code",
   "execution_count": 36,
   "metadata": {},
   "outputs": [],
   "source": [
    "transaction_id = []\n",
    "\n",
    "for index in range(0, len(predictions)):\n",
    "    transaction_id.append(index)"
   ]
  },
  {
   "cell_type": "code",
   "execution_count": 37,
   "metadata": {},
   "outputs": [],
   "source": [
    "result_df['ID'] = transaction_id\n",
    "result_df['ISFRAUD'] = predictions"
   ]
  },
  {
   "cell_type": "code",
   "execution_count": 38,
   "metadata": {},
   "outputs": [
    {
     "data": {
      "text/html": [
       "<div>\n",
       "<style scoped>\n",
       "    .dataframe tbody tr th:only-of-type {\n",
       "        vertical-align: middle;\n",
       "    }\n",
       "\n",
       "    .dataframe tbody tr th {\n",
       "        vertical-align: top;\n",
       "    }\n",
       "\n",
       "    .dataframe thead th {\n",
       "        text-align: right;\n",
       "    }\n",
       "</style>\n",
       "<table border=\"1\" class=\"dataframe\">\n",
       "  <thead>\n",
       "    <tr style=\"text-align: right;\">\n",
       "      <th></th>\n",
       "      <th>ID</th>\n",
       "      <th>ISFRAUD</th>\n",
       "    </tr>\n",
       "  </thead>\n",
       "  <tbody>\n",
       "    <tr>\n",
       "      <th>0</th>\n",
       "      <td>0</td>\n",
       "      <td>1</td>\n",
       "    </tr>\n",
       "    <tr>\n",
       "      <th>1</th>\n",
       "      <td>1</td>\n",
       "      <td>0</td>\n",
       "    </tr>\n",
       "    <tr>\n",
       "      <th>2</th>\n",
       "      <td>2</td>\n",
       "      <td>0</td>\n",
       "    </tr>\n",
       "    <tr>\n",
       "      <th>3</th>\n",
       "      <td>3</td>\n",
       "      <td>0</td>\n",
       "    </tr>\n",
       "    <tr>\n",
       "      <th>4</th>\n",
       "      <td>4</td>\n",
       "      <td>1</td>\n",
       "    </tr>\n",
       "  </tbody>\n",
       "</table>\n",
       "</div>"
      ],
      "text/plain": [
       "   ID  ISFRAUD\n",
       "0   0        1\n",
       "1   1        0\n",
       "2   2        0\n",
       "3   3        0\n",
       "4   4        1"
      ]
     },
     "execution_count": 38,
     "metadata": {},
     "output_type": "execute_result"
    }
   ],
   "source": [
    "result_df.head()"
   ]
  },
  {
   "cell_type": "code",
   "execution_count": 39,
   "metadata": {},
   "outputs": [
    {
     "data": {
      "text/html": [
       "<div>\n",
       "<style scoped>\n",
       "    .dataframe tbody tr th:only-of-type {\n",
       "        vertical-align: middle;\n",
       "    }\n",
       "\n",
       "    .dataframe tbody tr th {\n",
       "        vertical-align: top;\n",
       "    }\n",
       "\n",
       "    .dataframe thead th {\n",
       "        text-align: right;\n",
       "    }\n",
       "</style>\n",
       "<table border=\"1\" class=\"dataframe\">\n",
       "  <thead>\n",
       "    <tr style=\"text-align: right;\">\n",
       "      <th></th>\n",
       "      <th>ID</th>\n",
       "      <th>ISFRAUD</th>\n",
       "    </tr>\n",
       "  </thead>\n",
       "  <tbody>\n",
       "    <tr>\n",
       "      <th>39995</th>\n",
       "      <td>39995</td>\n",
       "      <td>0</td>\n",
       "    </tr>\n",
       "    <tr>\n",
       "      <th>39996</th>\n",
       "      <td>39996</td>\n",
       "      <td>0</td>\n",
       "    </tr>\n",
       "    <tr>\n",
       "      <th>39997</th>\n",
       "      <td>39997</td>\n",
       "      <td>0</td>\n",
       "    </tr>\n",
       "    <tr>\n",
       "      <th>39998</th>\n",
       "      <td>39998</td>\n",
       "      <td>0</td>\n",
       "    </tr>\n",
       "    <tr>\n",
       "      <th>39999</th>\n",
       "      <td>39999</td>\n",
       "      <td>0</td>\n",
       "    </tr>\n",
       "  </tbody>\n",
       "</table>\n",
       "</div>"
      ],
      "text/plain": [
       "          ID  ISFRAUD\n",
       "39995  39995        0\n",
       "39996  39996        0\n",
       "39997  39997        0\n",
       "39998  39998        0\n",
       "39999  39999        0"
      ]
     },
     "execution_count": 39,
     "metadata": {},
     "output_type": "execute_result"
    }
   ],
   "source": [
    "result_df.tail()"
   ]
  },
  {
   "cell_type": "markdown",
   "metadata": {},
   "source": [
    "Finally, the last submission file is created."
   ]
  },
  {
   "cell_type": "code",
   "execution_count": 40,
   "metadata": {},
   "outputs": [],
   "source": [
    "result_df.to_csv('last_submission2.csv', index = False)"
   ]
  },
  {
   "cell_type": "code",
   "execution_count": null,
   "metadata": {},
   "outputs": [],
   "source": []
  }
 ],
 "metadata": {
  "kernelspec": {
   "display_name": "Python 3",
   "language": "python",
   "name": "python3"
  },
  "language_info": {
   "codemirror_mode": {
    "name": "ipython",
    "version": 3
   },
   "file_extension": ".py",
   "mimetype": "text/x-python",
   "name": "python",
   "nbconvert_exporter": "python",
   "pygments_lexer": "ipython3",
   "version": "3.7.4"
  }
 },
 "nbformat": 4,
 "nbformat_minor": 1
}
